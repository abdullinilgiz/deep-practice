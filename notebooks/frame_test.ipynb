{
 "cells": [
  {
   "cell_type": "code",
   "execution_count": 36,
   "metadata": {},
   "outputs": [],
   "source": [
    "import torch\n",
    "import numpy as np\n",
    "import cv2"
   ]
  },
  {
   "cell_type": "code",
   "execution_count": 37,
   "metadata": {},
   "outputs": [
    {
     "name": "stderr",
     "output_type": "stream",
     "text": [
      "Downloading: \"https://github.com/ultralytics/yolov5/zipball/master\" to /home/ilgiz/.cache/torch/hub/master.zip\n",
      "YOLOv5 🚀 2023-11-28 Python-3.10.12 torch-2.1.1+cu118 CUDA:0 (NVIDIA GeForce RTX 3050 Ti Laptop GPU, 3902MiB)\n",
      "\n",
      "Fusing layers... \n",
      "Model summary: 157 layers, 7064065 parameters, 0 gradients, 15.9 GFLOPs\n",
      "Adding AutoShape... \n"
     ]
    }
   ],
   "source": [
    "model = torch.hub.load('ultralytics/yolov5', 'custom', path='yolov5/runs/train/exp21/weights/last.pt', force_reload=True)"
   ]
  },
  {
   "cell_type": "code",
   "execution_count": 38,
   "metadata": {},
   "outputs": [],
   "source": [
    "image_path = '../data/yellow_pedestrians.jpg'\n",
    "image = cv2.imread(image_path)\n",
    "\n",
    "results = model(image)\n",
    "\n",
    "cv2.imshow('YOLO', np.squeeze(results.render()))\n",
    "\n",
    "cv2.waitKey(0)\n",
    "cv2.destroyAllWindows()"
   ]
  },
  {
   "cell_type": "code",
   "execution_count": 39,
   "metadata": {},
   "outputs": [],
   "source": [
    "image_path = '../data/right_side.jpg'\n",
    "image = cv2.imread(image_path)\n",
    "\n",
    "results = model(image)\n",
    "\n",
    "cv2.imshow('YOLO', np.squeeze(results.render()))\n",
    "\n",
    "cv2.waitKey(0)\n",
    "cv2.destroyAllWindows()"
   ]
  },
  {
   "cell_type": "code",
   "execution_count": 40,
   "metadata": {},
   "outputs": [],
   "source": [
    "image_path = '../data/main_road.jpg'\n",
    "image = cv2.imread(image_path)\n",
    "\n",
    "results = model(image)\n",
    "\n",
    "cv2.imshow('YOLO', np.squeeze(results.render()))\n",
    "\n",
    "cv2.waitKey(0)\n",
    "cv2.destroyAllWindows()"
   ]
  },
  {
   "cell_type": "code",
   "execution_count": 41,
   "metadata": {},
   "outputs": [],
   "source": [
    "image_path = '../data/100sign.jpg'\n",
    "image = cv2.imread(image_path)\n",
    "\n",
    "results = model(image)\n",
    "\n",
    "cv2.imshow('YOLO', np.squeeze(results.render()))\n",
    "\n",
    "cv2.waitKey(0)\n",
    "cv2.destroyAllWindows()"
   ]
  },
  {
   "cell_type": "code",
   "execution_count": 42,
   "metadata": {},
   "outputs": [],
   "source": [
    "image_path = '../data/70sign.jpg'\n",
    "image = cv2.imread(image_path)\n",
    "\n",
    "results = model(image)\n",
    "\n",
    "cv2.imshow('YOLO', np.squeeze(results.render()))\n",
    "\n",
    "cv2.waitKey(0)\n",
    "cv2.destroyAllWindows()"
   ]
  },
  {
   "cell_type": "code",
   "execution_count": null,
   "metadata": {},
   "outputs": [],
   "source": []
  }
 ],
 "metadata": {
  "kernelspec": {
   "display_name": "venv",
   "language": "python",
   "name": "python3"
  },
  "language_info": {
   "codemirror_mode": {
    "name": "ipython",
    "version": 3
   },
   "file_extension": ".py",
   "mimetype": "text/x-python",
   "name": "python",
   "nbconvert_exporter": "python",
   "pygments_lexer": "ipython3",
   "version": "3.10.12"
  }
 },
 "nbformat": 4,
 "nbformat_minor": 2
}
