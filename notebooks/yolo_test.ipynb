{
 "cells": [
  {
   "cell_type": "code",
   "execution_count": 2,
   "metadata": {},
   "outputs": [
    {
     "name": "stdout",
     "output_type": "stream",
     "text": [
      "fatal: destination path 'yolov5' already exists and is not an empty directory.\n"
     ]
    }
   ],
   "source": [
    "!git clone https://github.com/ultralytics/yolov5"
   ]
  },
  {
   "cell_type": "code",
   "execution_count": null,
   "metadata": {},
   "outputs": [],
   "source": [
    "%%bash\n",
    "cd yolov5 \n",
    "pip install -r requirements.txt"
   ]
  },
  {
   "cell_type": "code",
   "execution_count": 3,
   "metadata": {},
   "outputs": [],
   "source": [
    "import torch\n",
    "from matplotlib import pyplot as plt\n",
    "import numpy as np\n",
    "import cv2"
   ]
  },
  {
   "cell_type": "code",
   "execution_count": 2,
   "metadata": {},
   "outputs": [
    {
     "name": "stderr",
     "output_type": "stream",
     "text": [
      "Using cache found in /home/ilgiz/.cache/torch/hub/ultralytics_yolov5_master\n",
      "YOLOv5 🚀 2023-11-24 Python-3.10.12 torch-2.1.1+cu118 CUDA:0 (NVIDIA GeForce RTX 3050 Ti Laptop GPU, 3902MiB)\n",
      "\n",
      "Fusing layers... \n",
      "YOLOv5s summary: 213 layers, 7225885 parameters, 0 gradients, 16.4 GFLOPs\n",
      "Adding AutoShape... \n"
     ]
    }
   ],
   "source": [
    "model = torch.hub.load('ultralytics/yolov5', 'yolov5s')"
   ]
  },
  {
   "cell_type": "markdown",
   "metadata": {},
   "source": [
    "Real time"
   ]
  },
  {
   "cell_type": "code",
   "execution_count": 4,
   "metadata": {},
   "outputs": [
    {
     "ename": "KeyboardInterrupt",
     "evalue": "",
     "output_type": "error",
     "traceback": [
      "\u001b[0;31m---------------------------------------------------------------------------\u001b[0m",
      "\u001b[0;31mKeyboardInterrupt\u001b[0m                         Traceback (most recent call last)",
      "\u001b[1;32m/home/ilgiz/dev/deep-practice/notebooks/yolo_test.ipynb Cell 6\u001b[0m line \u001b[0;36m1\n\u001b[1;32m      <a href='vscode-notebook-cell:/home/ilgiz/dev/deep-practice/notebooks/yolo_test.ipynb#W5sZmlsZQ%3D%3D?line=5'>6</a>\u001b[0m     results \u001b[39m=\u001b[39m model(frame)\n\u001b[1;32m      <a href='vscode-notebook-cell:/home/ilgiz/dev/deep-practice/notebooks/yolo_test.ipynb#W5sZmlsZQ%3D%3D?line=7'>8</a>\u001b[0m     cv2\u001b[39m.\u001b[39mimshow(\u001b[39m'\u001b[39m\u001b[39mYOLO\u001b[39m\u001b[39m'\u001b[39m, np\u001b[39m.\u001b[39msqueeze(results\u001b[39m.\u001b[39mrender()))\n\u001b[0;32m---> <a href='vscode-notebook-cell:/home/ilgiz/dev/deep-practice/notebooks/yolo_test.ipynb#W5sZmlsZQ%3D%3D?line=9'>10</a>\u001b[0m     \u001b[39mif\u001b[39;00m cv2\u001b[39m.\u001b[39;49mwaitKey(\u001b[39m10\u001b[39;49m) \u001b[39m&\u001b[39m \u001b[39m0xFF\u001b[39m \u001b[39m==\u001b[39m \u001b[39mord\u001b[39m(\u001b[39m'\u001b[39m\u001b[39mq\u001b[39m\u001b[39m'\u001b[39m):\n\u001b[1;32m     <a href='vscode-notebook-cell:/home/ilgiz/dev/deep-practice/notebooks/yolo_test.ipynb#W5sZmlsZQ%3D%3D?line=10'>11</a>\u001b[0m         \u001b[39mbreak\u001b[39;00m\n\u001b[1;32m     <a href='vscode-notebook-cell:/home/ilgiz/dev/deep-practice/notebooks/yolo_test.ipynb#W5sZmlsZQ%3D%3D?line=11'>12</a>\u001b[0m cap\u001b[39m.\u001b[39mrelease()\n",
      "\u001b[0;31mKeyboardInterrupt\u001b[0m: "
     ]
    }
   ],
   "source": [
    "cap = cv2.VideoCapture('../data/cross_walks.mp4')\n",
    "while cap.isOpened():\n",
    "    ret, frame = cap.read()\n",
    "    \n",
    "    # Make detections \n",
    "    results = model(frame)\n",
    "    \n",
    "    cv2.imshow('YOLO', np.squeeze(results.render()))\n",
    "    \n",
    "    if cv2.waitKey(10) & 0xFF == ord('q'):\n",
    "        break\n",
    "cap.release()\n",
    "cv2.destroyAllWindows()"
   ]
  },
  {
   "cell_type": "code",
   "execution_count": 7,
   "metadata": {},
   "outputs": [
    {
     "name": "stderr",
     "output_type": "stream",
     "text": [
      "\u001b[34m\u001b[1mtrain: \u001b[0mweights=yolov5s.pt, cfg=, data=dataset.yaml, hyp=data/hyps/hyp.scratch-low.yaml, epochs=20, batch_size=1, imgsz=512, rect=False, resume=False, nosave=False, noval=False, noautoanchor=False, noplots=False, evolve=None, bucket=, cache=None, image_weights=False, device=, multi_scale=False, single_cls=False, optimizer=SGD, sync_bn=False, workers=8, project=runs/train, name=exp, exist_ok=False, quad=False, cos_lr=False, label_smoothing=0.0, patience=100, freeze=[0], save_period=-1, seed=0, local_rank=-1, entity=None, upload_dataset=False, bbox_interval=-1, artifact_alias=latest\n",
      "\u001b[34m\u001b[1mgithub: \u001b[0m⚠️ YOLOv5 is out of date by 2 commits. Use 'git pull' or 'git clone https://github.com/ultralytics/yolov5' to update.\n",
      "YOLOv5 🚀 v7.0-245-g3d8f004 Python-3.10.12 torch-2.1.1+cu118 CUDA:0 (NVIDIA GeForce RTX 3050 Ti Laptop GPU, 3902MiB)\n",
      "\n",
      "\u001b[34m\u001b[1mhyperparameters: \u001b[0mlr0=0.01, lrf=0.01, momentum=0.937, weight_decay=0.0005, warmup_epochs=3.0, warmup_momentum=0.8, warmup_bias_lr=0.1, box=0.05, cls=0.5, cls_pw=1.0, obj=1.0, obj_pw=1.0, iou_t=0.2, anchor_t=4.0, fl_gamma=0.0, hsv_h=0.015, hsv_s=0.7, hsv_v=0.4, degrees=0.0, translate=0.1, scale=0.5, shear=0.0, perspective=0.0, flipud=0.0, fliplr=0.5, mosaic=1.0, mixup=0.0, copy_paste=0.0\n",
      "\u001b[34m\u001b[1mComet: \u001b[0mrun 'pip install comet_ml' to automatically track and visualize YOLOv5 🚀 runs in Comet\n",
      "\u001b[34m\u001b[1mTensorBoard: \u001b[0mStart with 'tensorboard --logdir runs/train', view at http://localhost:6006/\n",
      "Overriding model.yaml nc=80 with nc=20\n",
      "\n",
      "                 from  n    params  module                                  arguments                     \n",
      "  0                -1  1      3520  models.common.Conv                      [3, 32, 6, 2, 2]              \n",
      "  1                -1  1     18560  models.common.Conv                      [32, 64, 3, 2]                \n",
      "  2                -1  1     18816  models.common.C3                        [64, 64, 1]                   \n",
      "  3                -1  1     73984  models.common.Conv                      [64, 128, 3, 2]               \n",
      "  4                -1  2    115712  models.common.C3                        [128, 128, 2]                 \n",
      "  5                -1  1    295424  models.common.Conv                      [128, 256, 3, 2]              \n",
      "  6                -1  3    625152  models.common.C3                        [256, 256, 3]                 \n",
      "  7                -1  1   1180672  models.common.Conv                      [256, 512, 3, 2]              \n",
      "  8                -1  1   1182720  models.common.C3                        [512, 512, 1]                 \n",
      "  9                -1  1    656896  models.common.SPPF                      [512, 512, 5]                 \n",
      " 10                -1  1    131584  models.common.Conv                      [512, 256, 1, 1]              \n",
      " 11                -1  1         0  torch.nn.modules.upsampling.Upsample    [None, 2, 'nearest']          \n",
      " 12           [-1, 6]  1         0  models.common.Concat                    [1]                           \n",
      " 13                -1  1    361984  models.common.C3                        [512, 256, 1, False]          \n",
      " 14                -1  1     33024  models.common.Conv                      [256, 128, 1, 1]              \n",
      " 15                -1  1         0  torch.nn.modules.upsampling.Upsample    [None, 2, 'nearest']          \n",
      " 16           [-1, 4]  1         0  models.common.Concat                    [1]                           \n",
      " 17                -1  1     90880  models.common.C3                        [256, 128, 1, False]          \n",
      " 18                -1  1    147712  models.common.Conv                      [128, 128, 3, 2]              \n",
      " 19          [-1, 14]  1         0  models.common.Concat                    [1]                           \n",
      " 20                -1  1    296448  models.common.C3                        [256, 256, 1, False]          \n",
      " 21                -1  1    590336  models.common.Conv                      [256, 256, 3, 2]              \n",
      " 22          [-1, 10]  1         0  models.common.Concat                    [1]                           \n",
      " 23                -1  1   1182720  models.common.C3                        [512, 512, 1, False]          \n",
      " 24      [17, 20, 23]  1     67425  models.yolo.Detect                      [20, [[10, 13, 16, 30, 33, 23], [30, 61, 62, 45, 59, 119], [116, 90, 156, 198, 373, 326]], [128, 256, 512]]\n",
      "Model summary: 214 layers, 7073569 parameters, 7073569 gradients, 16.1 GFLOPs\n",
      "\n",
      "Transferred 343/349 items from yolov5s.pt\n",
      "\u001b[34m\u001b[1mAMP: \u001b[0mchecks passed ✅\n",
      "\u001b[34m\u001b[1moptimizer:\u001b[0m SGD(lr=0.01) with parameter groups 57 weight(decay=0.0), 60 weight(decay=0.0005), 60 bias\n",
      "\u001b[34m\u001b[1mtrain: \u001b[0mScanning /home/ilgiz/dev/deep-practice/data/labels/train.cache... 3727 images, 923 backgrounds, 2 corrupt: 100%|██████████| 3727/3727 [00:00<?, ?it/s]\n",
      "\u001b[34m\u001b[1mtrain: \u001b[0mWARNING ⚠️ /home/ilgiz/dev/deep-practice/data/images/train/1277107954Image000036.jpg: ignoring corrupt image/label: negative label values [  -0.048779    -0.48632]\n",
      "\u001b[34m\u001b[1mtrain: \u001b[0mWARNING ⚠️ /home/ilgiz/dev/deep-practice/data/images/train/1277107954Image000041.jpg: ignoring corrupt image/label: negative label values [   -0.18598    -0.31664]\n",
      "\u001b[34m\u001b[1mval: \u001b[0mScanning /home/ilgiz/dev/deep-practice/data/labels/val.cache... 50 images, 14 backgrounds, 0 corrupt: 100%|██████████| 50/50 [00:00<?, ?it/s]\n",
      "\n",
      "\u001b[34m\u001b[1mAutoAnchor: \u001b[0m2.89 anchors/target, 0.963 Best Possible Recall (BPR). Anchors are a poor fit to dataset ⚠️, attempting to improve...\n",
      "\u001b[34m\u001b[1mAutoAnchor: \u001b[0mWARNING ⚠️ Extremely small objects found: 195 of 6565 labels are <3 pixels in size\n",
      "\u001b[34m\u001b[1mAutoAnchor: \u001b[0mRunning kmeans for 9 anchors on 6562 points...\n",
      "\u001b[34m\u001b[1mAutoAnchor: \u001b[0mEvolving anchors with Genetic Algorithm: fitness = 0.8712: 100%|██████████| 1000/1000 [00:00<00:00, 2804.77it/s]\n",
      "\u001b[34m\u001b[1mAutoAnchor: \u001b[0mthr=0.25: 1.0000 best possible recall, 6.55 anchors past thr\n",
      "\u001b[34m\u001b[1mAutoAnchor: \u001b[0mn=9, img_size=512, metric_all=0.448/0.871-mean/best, past_thr=0.557-mean: 4,4, 6,6, 8,8, 10,10, 14,14, 20,20, 26,27, 38,39, 57,62\n",
      "\u001b[34m\u001b[1mAutoAnchor: \u001b[0mDone ✅ (optional: update model *.yaml to use these anchors in the future)\n",
      "Plotting labels to runs/train/exp21/labels.jpg... \n",
      "Image sizes 512 train, 512 val\n",
      "Using 0 dataloader workers\n",
      "Logging results to \u001b[1mruns/train/exp21\u001b[0m\n",
      "Starting training for 20 epochs...\n",
      "\n",
      "      Epoch    GPU_mem   box_loss   obj_loss   cls_loss  Instances       Size\n",
      "       0/19     0.604G    0.09423    0.01466    0.05578          1        512: 100%|██████████| 3725/3725 [06:10<00:00, 10.05it/s]\n",
      "                 Class     Images  Instances          P          R      mAP50   mAP50-95: 100%|██████████| 25/25 [00:00<00:00, 36.81it/s]\n",
      "                   all         50         80      0.632      0.133      0.136     0.0419\n",
      "\n",
      "      Epoch    GPU_mem   box_loss   obj_loss   cls_loss  Instances       Size\n",
      "       1/19     0.606G    0.06464    0.01243    0.04867          6        512: 100%|██████████| 3725/3725 [06:08<00:00, 10.10it/s]\n",
      "                 Class     Images  Instances          P          R      mAP50   mAP50-95: 100%|██████████| 25/25 [00:00<00:00, 45.84it/s]\n",
      "                   all         50         80      0.592      0.217      0.196      0.115\n",
      "\n",
      "      Epoch    GPU_mem   box_loss   obj_loss   cls_loss  Instances       Size\n",
      "       2/19     0.606G    0.06134    0.01145    0.04702          0        512: 100%|██████████| 3725/3725 [06:05<00:00, 10.21it/s]\n",
      "                 Class     Images  Instances          P          R      mAP50   mAP50-95: 100%|██████████| 25/25 [00:00<00:00, 47.03it/s]\n",
      "                   all         50         80      0.775      0.134      0.175      0.111\n",
      "\n",
      "      Epoch    GPU_mem   box_loss   obj_loss   cls_loss  Instances       Size\n",
      "       3/19     0.606G    0.05723     0.0108    0.04231          2        512: 100%|██████████| 3725/3725 [06:02<00:00, 10.26it/s]\n",
      "                 Class     Images  Instances          P          R      mAP50   mAP50-95: 100%|██████████| 25/25 [00:00<00:00, 47.21it/s]\n",
      "                   all         50         80      0.776      0.209      0.242      0.141\n",
      "\n",
      "      Epoch    GPU_mem   box_loss   obj_loss   cls_loss  Instances       Size\n",
      "       4/19     0.606G    0.05319    0.01097    0.03816          1        512: 100%|██████████| 3725/3725 [06:01<00:00, 10.30it/s]\n",
      "                 Class     Images  Instances          P          R      mAP50   mAP50-95: 100%|██████████| 25/25 [00:00<00:00, 46.66it/s]\n",
      "                   all         50         80      0.564      0.362      0.237      0.136\n",
      "\n",
      "      Epoch    GPU_mem   box_loss   obj_loss   cls_loss  Instances       Size\n",
      "       5/19     0.606G    0.05076    0.01068    0.03569          3        512: 100%|██████████| 3725/3725 [06:03<00:00, 10.26it/s]\n",
      "                 Class     Images  Instances          P          R      mAP50   mAP50-95: 100%|██████████| 25/25 [00:00<00:00, 46.29it/s]\n",
      "                   all         50         80      0.602      0.387       0.33        0.2\n",
      "\n",
      "      Epoch    GPU_mem   box_loss   obj_loss   cls_loss  Instances       Size\n",
      "       6/19     0.606G    0.04899    0.01067    0.03333          4        512: 100%|██████████| 3725/3725 [06:03<00:00, 10.26it/s]\n",
      "                 Class     Images  Instances          P          R      mAP50   mAP50-95: 100%|██████████| 25/25 [00:00<00:00, 47.19it/s]\n",
      "                   all         50         80      0.524      0.393      0.321      0.199\n",
      "\n",
      "      Epoch    GPU_mem   box_loss   obj_loss   cls_loss  Instances       Size\n",
      "       7/19     0.606G    0.04664    0.01031    0.03211          1        512: 100%|██████████| 3725/3725 [06:08<00:00, 10.12it/s]\n",
      "                 Class     Images  Instances          P          R      mAP50   mAP50-95: 100%|██████████| 25/25 [00:00<00:00, 46.49it/s]\n",
      "                   all         50         80      0.628      0.344      0.324      0.211\n",
      "\n",
      "      Epoch    GPU_mem   box_loss   obj_loss   cls_loss  Instances       Size\n",
      "       8/19     0.606G    0.04543    0.01017    0.03071          2        512: 100%|██████████| 3725/3725 [06:07<00:00, 10.15it/s]\n",
      "                 Class     Images  Instances          P          R      mAP50   mAP50-95: 100%|██████████| 25/25 [00:00<00:00, 46.67it/s]\n",
      "                   all         50         80      0.829       0.31      0.384       0.24\n",
      "\n",
      "      Epoch    GPU_mem   box_loss   obj_loss   cls_loss  Instances       Size\n",
      "       9/19     0.606G    0.04432    0.00996    0.02925          2        512: 100%|██████████| 3725/3725 [06:05<00:00, 10.19it/s]\n",
      "                 Class     Images  Instances          P          R      mAP50   mAP50-95: 100%|██████████| 25/25 [00:00<00:00, 46.50it/s]\n",
      "                   all         50         80      0.859      0.318      0.395      0.275\n",
      "\n",
      "      Epoch    GPU_mem   box_loss   obj_loss   cls_loss  Instances       Size\n",
      "      10/19     0.606G    0.04279   0.009802    0.02782          3        512: 100%|██████████| 3725/3725 [06:02<00:00, 10.28it/s]\n",
      "                 Class     Images  Instances          P          R      mAP50   mAP50-95: 100%|██████████| 25/25 [00:00<00:00, 47.61it/s]\n",
      "                   all         50         80      0.868      0.334      0.463       0.31\n",
      "\n",
      "      Epoch    GPU_mem   box_loss   obj_loss   cls_loss  Instances       Size\n",
      "      11/19     0.606G    0.04182   0.009769    0.02698          5        512: 100%|██████████| 3725/3725 [06:07<00:00, 10.14it/s]\n",
      "                 Class     Images  Instances          P          R      mAP50   mAP50-95: 100%|██████████| 25/25 [00:00<00:00, 46.71it/s]\n",
      "                   all         50         80      0.587      0.443      0.459      0.286\n",
      "\n",
      "      Epoch    GPU_mem   box_loss   obj_loss   cls_loss  Instances       Size\n",
      "      12/19     0.606G    0.04041    0.00944    0.02632          1        512: 100%|██████████| 3725/3725 [06:08<00:00, 10.11it/s]\n",
      "                 Class     Images  Instances          P          R      mAP50   mAP50-95: 100%|██████████| 25/25 [00:00<00:00, 47.48it/s]\n",
      "                   all         50         80      0.864      0.335      0.442       0.27\n",
      "\n",
      "      Epoch    GPU_mem   box_loss   obj_loss   cls_loss  Instances       Size\n",
      "      13/19     0.606G    0.03987   0.009419     0.0255          1        512: 100%|██████████| 3725/3725 [06:07<00:00, 10.14it/s]\n",
      "                 Class     Images  Instances          P          R      mAP50   mAP50-95: 100%|██████████| 25/25 [00:00<00:00, 46.46it/s]\n",
      "                   all         50         80      0.889      0.343      0.427      0.277\n",
      "\n",
      "      Epoch    GPU_mem   box_loss   obj_loss   cls_loss  Instances       Size\n",
      "      14/19     0.606G    0.03795   0.008997    0.02353          3        512: 100%|██████████| 3725/3725 [06:03<00:00, 10.26it/s]\n",
      "                 Class     Images  Instances          P          R      mAP50   mAP50-95: 100%|██████████| 25/25 [00:00<00:00, 45.93it/s]\n",
      "                   all         50         80      0.985      0.291      0.465      0.311\n",
      "\n",
      "      Epoch    GPU_mem   box_loss   obj_loss   cls_loss  Instances       Size\n",
      "      15/19     0.606G    0.03816   0.009248    0.02325          1        512: 100%|██████████| 3725/3725 [06:06<00:00, 10.18it/s]\n",
      "                 Class     Images  Instances          P          R      mAP50   mAP50-95: 100%|██████████| 25/25 [00:00<00:00, 45.82it/s]\n",
      "                   all         50         80      0.576      0.417      0.481      0.293\n",
      "\n",
      "      Epoch    GPU_mem   box_loss   obj_loss   cls_loss  Instances       Size\n",
      "      16/19     0.606G    0.03724   0.009008    0.02357          0        512: 100%|██████████| 3725/3725 [06:03<00:00, 10.26it/s]\n",
      "                 Class     Images  Instances          P          R      mAP50   mAP50-95: 100%|██████████| 25/25 [00:00<00:00, 47.79it/s]\n",
      "                   all         50         80      0.749      0.409      0.482      0.325\n",
      "\n",
      "      Epoch    GPU_mem   box_loss   obj_loss   cls_loss  Instances       Size\n",
      "      17/19     0.606G    0.03637   0.008978    0.02247          4        512: 100%|██████████| 3725/3725 [06:04<00:00, 10.22it/s]\n",
      "                 Class     Images  Instances          P          R      mAP50   mAP50-95: 100%|██████████| 25/25 [00:00<00:00, 46.92it/s]\n",
      "                   all         50         80      0.792      0.391       0.51      0.343\n",
      "\n",
      "      Epoch    GPU_mem   box_loss   obj_loss   cls_loss  Instances       Size\n",
      "      18/19     0.606G    0.03578   0.008949    0.02167          4        512: 100%|██████████| 3725/3725 [06:03<00:00, 10.24it/s]\n",
      "                 Class     Images  Instances          P          R      mAP50   mAP50-95: 100%|██████████| 25/25 [00:00<00:00, 48.54it/s]\n",
      "                   all         50         80      0.664      0.389      0.511      0.344\n",
      "\n",
      "      Epoch    GPU_mem   box_loss   obj_loss   cls_loss  Instances       Size\n",
      "      19/19     0.606G    0.03483   0.008618    0.02116          1        512: 100%|██████████| 3725/3725 [06:03<00:00, 10.24it/s]\n",
      "                 Class     Images  Instances          P          R      mAP50   mAP50-95: 100%|██████████| 25/25 [00:00<00:00, 46.96it/s]\n",
      "                   all         50         80       0.84       0.35       0.53       0.37\n",
      "\n",
      "20 epochs completed in 2.035 hours.\n",
      "Optimizer stripped from runs/train/exp21/weights/last.pt, 14.4MB\n",
      "Optimizer stripped from runs/train/exp21/weights/best.pt, 14.4MB\n",
      "\n",
      "Validating runs/train/exp21/weights/best.pt...\n",
      "Fusing layers... \n",
      "Model summary: 157 layers, 7064065 parameters, 0 gradients, 15.9 GFLOPs\n",
      "                 Class     Images  Instances          P          R      mAP50   mAP50-95: 100%|██████████| 25/25 [00:00<00:00, 46.12it/s]\n",
      "                   all         50         80       0.84       0.35       0.53       0.37\n",
      "              100_SIGN         50          1          1          0      0.249      0.224\n",
      "               30_SIGN         50          2          1          0      0.557      0.282\n",
      "               50_SIGN         50          5          1          0      0.386      0.255\n",
      "               60_SIGN         50          1          1          0      0.124     0.0871\n",
      "               70_SIGN         50          3      0.665      0.333      0.577      0.451\n",
      "               80_SIGN         50          2          1          0      0.284      0.216\n",
      "              GIVE_WAY         50          4      0.735          1      0.995      0.647\n",
      "            NO_PARKING         50          4      0.666       0.75      0.773      0.496\n",
      "NO_STOPPING_NO_STANDING         50          1          0          0     0.0905     0.0452\n",
      "                 OTHER         50         11      0.793      0.818      0.902       0.66\n",
      "      PASS_EITHER_SIDE         50          1          1          0      0.497      0.497\n",
      "       PASS_RIGHT_SIDE         50          9      0.869       0.74      0.804      0.579\n",
      "   PEDESTRIAN_CROSSING         50         23      0.953      0.783      0.812      0.504\n",
      "         PRIORITY_ROAD         50         12      0.916      0.833      0.865       0.59\n",
      "                  STOP         50          1          1          0     0.0398     0.0239\n",
      "Results saved to \u001b[1mruns/train/exp21\u001b[0m\n"
     ]
    }
   ],
   "source": [
    "%%bash\n",
    "cd yolov5\n",
    "python train.py --img 512 --batch 1 --epochs 20 --data dataset.yaml --weights yolov5s.pt"
   ]
  },
  {
   "cell_type": "code",
   "execution_count": 11,
   "metadata": {},
   "outputs": [
    {
     "name": "stderr",
     "output_type": "stream",
     "text": [
      "Downloading: \"https://github.com/ultralytics/yolov5/zipball/master\" to /home/ilgiz/.cache/torch/hub/master.zip\n",
      "YOLOv5 🚀 2023-11-28 Python-3.10.12 torch-2.1.1+cu118 CUDA:0 (NVIDIA GeForce RTX 3050 Ti Laptop GPU, 3902MiB)\n",
      "\n",
      "Fusing layers... \n",
      "Model summary: 157 layers, 7064065 parameters, 0 gradients, 15.9 GFLOPs\n",
      "Adding AutoShape... \n"
     ]
    }
   ],
   "source": [
    "model = torch.hub.load('ultralytics/yolov5',\n",
    "                       'custom',\n",
    "                       path='yolov5/runs/train/exp21/weights/best.pt',\n",
    "                       force_reload=True)"
   ]
  },
  {
   "cell_type": "code",
   "execution_count": 12,
   "metadata": {},
   "outputs": [],
   "source": [
    "cap = cv2.VideoCapture('../data/day_alot.mp4')\n",
    "while cap.isOpened():\n",
    "    ret, frame = cap.read()\n",
    "    \n",
    "    # Make detections \n",
    "    results = model(frame)\n",
    "    \n",
    "    cv2.imshow('YOLO', np.squeeze(results.render()))\n",
    "    \n",
    "    if cv2.waitKey(10) & 0xFF == ord('q'):\n",
    "        break\n",
    "cap.release()\n",
    "cv2.destroyAllWindows()"
   ]
  },
  {
   "cell_type": "code",
   "execution_count": 10,
   "metadata": {},
   "outputs": [],
   "source": [
    "cap = cv2.VideoCapture('../data/cross_walks.mp4')\n",
    "while cap.isOpened():\n",
    "    ret, frame = cap.read()\n",
    "    \n",
    "    # Make detections \n",
    "    results = model(frame)\n",
    "    \n",
    "    cv2.imshow('YOLO', np.squeeze(results.render()))\n",
    "    \n",
    "    if cv2.waitKey(10) & 0xFF == ord('q'):\n",
    "        break\n",
    "cap.release()\n",
    "cv2.destroyAllWindows()"
   ]
  }
 ],
 "metadata": {
  "kernelspec": {
   "display_name": "venv",
   "language": "python",
   "name": "python3"
  },
  "language_info": {
   "codemirror_mode": {
    "name": "ipython",
    "version": 3
   },
   "file_extension": ".py",
   "mimetype": "text/x-python",
   "name": "python",
   "nbconvert_exporter": "python",
   "pygments_lexer": "ipython3",
   "version": "3.10.12"
  }
 },
 "nbformat": 4,
 "nbformat_minor": 2
}
